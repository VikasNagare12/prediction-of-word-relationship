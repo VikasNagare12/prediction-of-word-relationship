{
 "cells": [
  {
   "cell_type": "markdown",
   "metadata": {},
   "source": [
    "# Relationship finding\n"
   ]
  },
  {
   "cell_type": "code",
   "execution_count": 333,
   "metadata": {},
   "outputs": [],
   "source": [
    "#Impoting libs\n",
    "from nltk.corpus import stopwords\n",
    "import os\n",
    "import numpy as np\n",
    "from collections import OrderedDict\n",
    "import math\n",
    "import pandas as pd\n",
    "from sklearn.decomposition import PCA as sklearnPCA\n"
   ]
  },
  {
   "cell_type": "code",
   "execution_count": 86,
   "metadata": {},
   "outputs": [
    {
     "name": "stdout",
     "output_type": "stream",
     "text": [
      "Loading Word Vectors...\n",
      "Model load finish\n"
     ]
    }
   ],
   "source": [
    "#loding google w2v model\n",
    "from gensim.models import KeyedVectors\n",
    "if not os.path.exists('GoogleNews-vectors-negative300.bin.gz'):\n",
    "    raise ValueError(\"SKIP: You need to download the google news model\")\n",
    "print(\"Loading Word Vectors...\")\n",
    "model = KeyedVectors.load_word2vec_format('GoogleNews-vectors-negative300.bin.gz', binary=True, limit=500000)\n",
    "print(\"Model load finish\")\n",
    "#geting stop words"
   ]
  },
  {
   "cell_type": "code",
   "execution_count": 268,
   "metadata": {},
   "outputs": [],
   "source": [
    "#creating CSV to mtrix (train, u , v)\n",
    "\n",
    "def csv_to_matrix(csv_file):\n",
    "    #declare vectors\n",
    "    vectors = []\n",
    "    u_vectors=[]\n",
    "    v_vectors=[]\n",
    "    #open csv file\n",
    "    with open(csv_file) as input_file:\n",
    "        for line in input_file:\n",
    "            if line.strip():\n",
    "                try:            \n",
    "                    u,v = line.split(\",\")\n",
    "                    u = u.strip()\n",
    "                    v = v.strip()\n",
    "                    #print(u ,  \"     \",v)\n",
    "                    if(u != v):\n",
    "                            try:\n",
    "                                u=u.lower()\n",
    "                                u=u.capitalize()\n",
    "                                v=v.lower()\n",
    "                                v=v.capitalize()\n",
    "                                \n",
    "                                x=model.wv[u]\n",
    "                                y=model.wv[v]\n",
    "                                #finding differance of two vectors(u,v)\n",
    "                                vectors.append(x - y)\n",
    "                                #creating u, v vector of words\n",
    "                                u_vectors.append(x)\n",
    "                                v_vectors.append(y)\n",
    "                                #print(u , \"    \", v)\n",
    "                            except KeyError:\n",
    "                                #print(\" error for \" ,u, '   ',v)\n",
    "                                continue\n",
    "                    else:\n",
    "                        ssss=1\n",
    "                        #print(\"not added in matrix . : both same   \", u ,\"  \",v)\n",
    "\n",
    "                except ValueError:\n",
    "                    sssss=1\n",
    "                    #print('Skipping {}'.format(line))\n",
    "                \n",
    "    #creating vector to matrix :\n",
    "    \n",
    "    train_matrix = np.array(vectors)\n",
    "    u_matrix=np.array(u_vectors)\n",
    "    v_matrix=np.array(v_vectors)\n",
    "\n",
    "    \n",
    "    #creating coveriance matrix\n",
    "    #train_cov_mat=np.cov(train_matrix.T)\n",
    "    \n",
    "    #return all matrix \n",
    "    return train_matrix, u_matrix, v_matrix \n",
    "    \n",
    "    \n",
    "    "
   ]
  },
  {
   "cell_type": "code",
   "execution_count": 88,
   "metadata": {},
   "outputs": [],
   "source": [
    "#function to normalize data\n",
    "from sklearn.preprocessing import StandardScaler\n",
    "def normalize(matrix):\n",
    "    std_matrix= StandardScaler().fit_transform(matrix)\n",
    "    return std_matrix\n",
    "\n",
    "    "
   ]
  },
  {
   "cell_type": "code",
   "execution_count": 89,
   "metadata": {},
   "outputs": [],
   "source": [
    "#creating co-veriance matrix :\n",
    "def get_coveriance(matrix):\n",
    "    train_cov_mat=np.cov(matrix.T)\n",
    "    return train_cov_mat"
   ]
  },
  {
   "cell_type": "code",
   "execution_count": 299,
   "metadata": {},
   "outputs": [],
   "source": [
    " def get_pca(comp, matrix):\n",
    "    matrix=get_coveriance(matrix)\n",
    "    sklearn_pca = sklearnPCA(n_components=comp)\n",
    "    sklearn_pca.fit(matrix)\n",
    "    return sklearn_pca"
   ]
  },
  {
   "cell_type": "code",
   "execution_count": 91,
   "metadata": {},
   "outputs": [],
   "source": [
    "#get diffearance of projected matrix\n",
    "def diff_p(u , v):\n",
    "    return (u - v)\n"
   ]
  },
  {
   "cell_type": "code",
   "execution_count": 337,
   "metadata": {},
   "outputs": [],
   "source": [
    "\n",
    "def getMinimunError(file_name):\n",
    "    train, u ,v =csv_to_matrix(file_name)\n",
    "    min_vec=[]\n",
    "    for comp in range(2,300):\n",
    "        pca =get_pca(comp , train)\n",
    "        duv=diff_p( (pca.transform(u)) , (pca.transform(v)))\n",
    "        sum_n=0\n",
    "        for i in range(len(duv)):\n",
    "            norm_v=np.linalg.norm(duv[i])\n",
    "            norm_v=math.pow (norm_v, 2)\n",
    "            sum_n+=norm_v\n",
    "            \n",
    "        \n",
    "        min_vec.append(int(sum_n))\n",
    "    return min_vec\n",
    "    "
   ]
  },
  {
   "cell_type": "code",
   "execution_count": 338,
   "metadata": {},
   "outputs": [
    {
     "name": "stderr",
     "output_type": "stream",
     "text": [
      "/Users/vikasnagare/Library/Python/3.7/lib/python/site-packages/ipykernel_launcher.py:24: DeprecationWarning: Call to deprecated `wv` (Attribute will be removed in 4.0.0, use self instead).\n",
      "/Users/vikasnagare/Library/Python/3.7/lib/python/site-packages/ipykernel_launcher.py:25: DeprecationWarning: Call to deprecated `wv` (Attribute will be removed in 4.0.0, use self instead).\n"
     ]
    },
    {
     "name": "stdout",
     "output_type": "stream",
     "text": [
      "[91, 119, 143, 165, 186, 205, 223, 238, 251, 264, 276, 285, 294, 301, 309, 316, 320, 324, 324, 324, 324, 324, 324, 324, 325, 325, 325, 325, 325, 325, 325, 325, 325, 325, 325, 325, 325, 326, 326, 326, 326, 326, 326, 326, 326, 326, 326, 326, 326, 327, 327, 327, 327, 327, 327, 327, 327, 327, 327, 327, 327, 327, 327, 328, 328, 328, 328, 328, 328, 328, 328, 328, 328, 328, 328, 329, 329, 329, 330, 330, 330, 330, 330, 330, 330, 330, 330, 330, 331, 331, 331, 331, 331, 331, 331, 331, 331, 331, 331, 331, 331, 331, 331, 331, 332, 332, 332, 332, 332, 332, 332, 332, 332, 332, 332, 333, 333, 333, 333, 333, 333, 333, 333, 333, 333, 333, 333, 333, 333, 333, 333, 333, 333, 333, 333, 333, 333, 334, 334, 334, 334, 335, 335, 335, 335, 335, 335, 335, 335, 335, 335, 335, 335, 335, 335, 335, 336, 336, 336, 336, 336, 336, 336, 336, 336, 336, 336, 336, 336, 336, 336, 336, 336, 337, 337, 337, 337, 337, 337, 337, 337, 337, 337, 337, 337, 337, 337, 337, 337, 337, 337, 337, 337, 338, 338, 338, 338, 338, 338, 338, 338, 339, 339, 339, 339, 339, 339, 339, 339, 339, 339, 339, 339, 339, 339, 339, 339, 339, 339, 340, 340, 340, 340, 340, 340, 340, 340, 340, 340, 340, 340, 340, 341, 341, 341, 341, 341, 341, 341, 341, 341, 341, 341, 342, 342, 342, 342, 342, 342, 342, 342, 342, 342, 342, 342, 342, 342, 343, 343, 343, 343, 343, 343, 343, 343, 343, 343, 343, 343, 344, 344, 344, 344, 344, 344, 344, 344, 344, 344, 345, 345, 345, 345, 346, 346, 346, 346, 346, 346, 346, 346, 346, 346, 346, 347, 347, 347, 347]\n",
      "\n",
      "\n",
      "\n"
     ]
    },
    {
     "name": "stderr",
     "output_type": "stream",
     "text": [
      "/Users/vikasnagare/Library/Python/3.7/lib/python/site-packages/ipykernel_launcher.py:24: DeprecationWarning: Call to deprecated `wv` (Attribute will be removed in 4.0.0, use self instead).\n",
      "/Users/vikasnagare/Library/Python/3.7/lib/python/site-packages/ipykernel_launcher.py:25: DeprecationWarning: Call to deprecated `wv` (Attribute will be removed in 4.0.0, use self instead).\n"
     ]
    },
    {
     "name": "stdout",
     "output_type": "stream",
     "text": [
      "[60, 88, 111, 133, 152, 170, 186, 199, 212, 224, 236, 246, 256, 263, 270, 270, 270, 271, 271, 271, 271, 271, 271, 271, 271, 271, 271, 271, 271, 271, 271, 271, 271, 272, 272, 272, 272, 272, 272, 272, 272, 272, 272, 272, 272, 272, 272, 272, 272, 272, 273, 273, 273, 273, 273, 273, 273, 273, 273, 273, 273, 274, 274, 274, 274, 274, 274, 274, 274, 274, 274, 274, 274, 274, 275, 275, 275, 275, 275, 275, 275, 275, 275, 275, 275, 275, 275, 275, 275, 275, 275, 275, 275, 275, 275, 276, 276, 276, 276, 276, 276, 276, 276, 276, 276, 276, 276, 276, 276, 276, 276, 277, 277, 277, 277, 277, 277, 277, 277, 277, 277, 277, 277, 277, 277, 277, 277, 277, 277, 277, 277, 277, 277, 277, 278, 278, 278, 278, 278, 278, 278, 278, 278, 278, 278, 278, 279, 279, 279, 279, 279, 279, 279, 279, 279, 279, 279, 279, 279, 279, 279, 279, 279, 279, 279, 280, 280, 280, 280, 280, 280, 280, 280, 280, 280, 280, 280, 280, 280, 280, 280, 280, 281, 281, 281, 281, 281, 281, 281, 281, 281, 281, 281, 281, 281, 281, 281, 281, 281, 281, 282, 282, 282, 282, 282, 282, 282, 282, 282, 282, 282, 282, 282, 282, 282, 282, 282, 282, 282, 282, 282, 282, 282, 282, 282, 282, 282, 282, 283, 283, 283, 283, 283, 283, 283, 283, 283, 283, 283, 283, 283, 283, 283, 283, 283, 283, 283, 284, 284, 284, 284, 284, 284, 284, 284, 284, 284, 284, 284, 284, 284, 284, 284, 284, 284, 284, 284, 285, 285, 285, 285, 285, 285, 285, 285, 285, 285, 285, 285, 285, 285, 285, 285, 285, 285, 285, 286, 286, 286, 286, 286, 286, 286, 286, 286, 286, 286, 286]\n",
      "\n",
      "\n",
      "\n"
     ]
    },
    {
     "name": "stderr",
     "output_type": "stream",
     "text": [
      "/Users/vikasnagare/Library/Python/3.7/lib/python/site-packages/ipykernel_launcher.py:24: DeprecationWarning: Call to deprecated `wv` (Attribute will be removed in 4.0.0, use self instead).\n",
      "/Users/vikasnagare/Library/Python/3.7/lib/python/site-packages/ipykernel_launcher.py:25: DeprecationWarning: Call to deprecated `wv` (Attribute will be removed in 4.0.0, use self instead).\n"
     ]
    },
    {
     "name": "stdout",
     "output_type": "stream",
     "text": [
      "[191, 264, 300, 327, 352, 374, 393, 417, 461, 478, 510, 526, 543, 557, 571, 589, 604, 616, 634, 646, 660, 671, 683, 692, 706, 716, 725, 733, 743, 752, 760, 769, 779, 787, 798, 806, 815, 823, 829, 837, 844, 850, 859, 865, 871, 877, 884, 896, 901, 911, 918, 923, 928, 939, 944, 948, 952, 963, 967, 973, 977, 983, 987, 991, 996, 999, 1005, 1014, 1017, 1020, 1024, 1029, 1032, 1035, 1039, 1044, 1047, 1050, 1052, 1055, 1058, 1061, 1064, 1066, 1068, 1071, 1073, 1075, 1079, 1081, 1085, 1088, 1090, 1092, 1094, 1096, 1097, 1099, 1104, 1106, 1109, 1110, 1111, 1117, 1118, 1119, 1121, 1122, 1123, 1124, 1126, 1129, 1130, 1134, 1135, 1135, 1136, 1137, 1139, 1143, 1144, 1145, 1152, 1153, 1153, 1154, 1156, 1158, 1159, 1160, 1160, 1162, 1163, 1163, 1164, 1167, 1167, 1167, 1167, 1167, 1168, 1168, 1168, 1168, 1169, 1170, 1170, 1170, 1177, 1177, 1178, 1178, 1178, 1181, 1181, 1185, 1185, 1185, 1185, 1185, 1185, 1187, 1188, 1188, 1188, 1188, 1188, 1192, 1195, 1195, 1199, 1199, 1199, 1200, 1200, 1201, 1201, 1201, 1201, 1201, 1202, 1203, 1203, 1203, 1205, 1206, 1206, 1206, 1208, 1209, 1210, 1210, 1211, 1211, 1212, 1212, 1212, 1212, 1212, 1212, 1212, 1212, 1213, 1213, 1213, 1214, 1214, 1214, 1215, 1216, 1216, 1217, 1217, 1218, 1218, 1218, 1218, 1218, 1219, 1219, 1219, 1219, 1221, 1221, 1221, 1221, 1221, 1221, 1223, 1224, 1224, 1224, 1226, 1226, 1226, 1226, 1226, 1226, 1227, 1227, 1227, 1229, 1230, 1230, 1230, 1231, 1231, 1231, 1233, 1233, 1233, 1233, 1235, 1236, 1238, 1239, 1239, 1239, 1240, 1240, 1240, 1240, 1241, 1241, 1241, 1241, 1241, 1242, 1242, 1243, 1243, 1243, 1243, 1244, 1246, 1246, 1246, 1246, 1246, 1246, 1246, 1250, 1252, 1252, 1252, 1252, 1253, 1254, 1254, 1254, 1254, 1255, 1258, 1259, 1259, 1259, 1259, 1260]\n"
     ]
    }
   ],
   "source": [
    "print(getMinimunError(\"has.csv\"))\n",
    "print(\"\\n\\n\")\n",
    "print(getMinimunError(\"have.csv\"))\n",
    "print(\"\\n\\n\")\n",
    "print(getMinimunError(\"capitals_processed_final.csv\"))"
   ]
  },
  {
   "cell_type": "code",
   "execution_count": 347,
   "metadata": {},
   "outputs": [],
   "source": [
    "\n",
    "# foe single entry\n",
    "# not complited still\n",
    "def predict(pca , word1 , word2):\n",
    "    word1 = word1.strip()\n",
    "    word2 = word2.strip()\n",
    "    word1=word1.lower()\n",
    "    word1=word1.capitalize()\n",
    "    word2=word2.lower()\n",
    "    word2=word2.capitalize()\n",
    "    [np.array((wv[word1]))]\n",
    "    [np.array((wv[vword2]))]\n",
    "    \n",
    "    d_list_uv=diff_p( (pca.transform(u)) , (pca.transform(v)))\n",
    "    norm_v=np.linalg.norm(d_list_uv)\n",
    "    norm_v=math.pow (norm_v, 2)\n",
    "    norm_v=norm_v * 100\n",
    "    norm_v=int(norm_v)\n",
    "\n",
    "    \n",
    "    \n",
    "    \n",
    "    \n",
    "    \n",
    "    \n",
    "    \n",
    "    "
   ]
  },
  {
   "cell_type": "code",
   "execution_count": 382,
   "metadata": {
    "scrolled": true
   },
   "outputs": [
    {
     "name": "stdout",
     "output_type": "stream",
     "text": [
      "[400, 448, 450, 489, 553, 558, 559, 568, 576, 586, 592, 599, 621, 623, 627, 640, 645, 647, 650, 656, 658, 664, 664, 668, 670, 671, 677, 683, 688, 691, 695, 696, 696, 700, 720, 721, 724, 732, 739, 745, 748, 749, 752, 756, 760, 760, 765, 776, 779, 784, 790, 796, 799, 800, 802, 804, 806, 808, 809, 816, 817, 818, 820, 821, 823, 824, 829, 844, 844, 852, 855, 856, 857, 857, 875, 879, 880, 882, 883, 884, 893, 896, 897, 906, 908, 910, 924, 935, 940, 953, 957, 961, 963, 963, 971, 972, 980, 982, 997, 1011, 1017, 1029, 1038, 1040, 1040, 1057, 1069, 1078, 1091, 1103, 1108, 1122, 1156, 1167, 1174, 1175, 1207, 1236, 1280, 1312, 1318, 1328, 1341, 1365, 1397, 1423, 1428, 1460, 1494, 1517, 1544, 1585, 1607, 1625, 1774, 2111, 2186]\n",
      "\n",
      "\n",
      "\n",
      "\n",
      "[758, 1095, 1352, 1398, 1435, 1452, 1534, 1538, 1752, 1781, 1794, 1803, 1829, 1922, 1970, 2034, 2064, 2189, 2329, 2700]\n",
      "\n",
      "\n",
      "\n",
      "\n",
      "[1050, 1096, 1150, 1232, 1443, 1461, 1464, 1515, 1771, 1775, 1815, 1979, 2068, 2085, 2089, 2331, 2343]\n",
      "\n",
      "\n",
      "\n",
      "\n",
      "[1360, 1445, 1510, 1615, 1662, 1662, 1747, 1829, 1835, 1849, 1916, 1959, 2083, 2092, 2157, 2329, 2439]\n"
     ]
    },
    {
     "name": "stderr",
     "output_type": "stream",
     "text": [
      "/Users/vikasnagare/Library/Python/3.7/lib/python/site-packages/ipykernel_launcher.py:24: DeprecationWarning: Call to deprecated `wv` (Attribute will be removed in 4.0.0, use self instead).\n",
      "/Users/vikasnagare/Library/Python/3.7/lib/python/site-packages/ipykernel_launcher.py:25: DeprecationWarning: Call to deprecated `wv` (Attribute will be removed in 4.0.0, use self instead).\n"
     ]
    }
   ],
   "source": [
    "\n",
    "def get_norm(pca, u , v):\n",
    "    d_list_uv=diff_p( (pca.transform(u)) , (pca.transform(v)))\n",
    "    norm_v=np.linalg.norm(d_list_uv)\n",
    "    norm_v=math.pow (norm_v, 2)\n",
    "    norm_v=norm_v * 100\n",
    "    norm_v=int(norm_v)\n",
    "    return norm_v\n",
    "\n",
    "\n",
    "\n",
    "trainc, cap_u ,cap_v =csv_to_matrix(\"capitals_processed_final.csv\")\n",
    "trains, has_u ,has_v =csv_to_matrix(\"has.csv\")\n",
    "trainh, have_u ,have_v =csv_to_matrix(\"have.csv\")\n",
    "\n",
    "\n",
    "\n",
    "trainc=trainc[0:50]\n",
    "\n",
    "s_cal=has_u\n",
    "from sklearn.utils import shuffle\n",
    "y=shuffle(s_cal)\n",
    "\n",
    "\n",
    "\n",
    "pca=get_pca(300 , trainc)\n",
    "\n",
    "\n",
    "\n",
    "norm=[]\n",
    "for i in range(len(cap_u)):\n",
    "    norm.append( get_norm(pca , [cap_u[i]], [cap_v[i]]))\n",
    "norm.sort()  \n",
    "print(norm)\n",
    "\n",
    "print(\"\\n\\n\\n\")\n",
    "\n",
    "norm=[]\n",
    "for i in range(len(has_u)):\n",
    "    norm.append( get_norm(pca , [has_u[i]], [has_v[i]]))\n",
    "norm.sort()  \n",
    "print(norm)\n",
    "\n",
    "\n",
    "print(\"\\n\\n\\n\")\n",
    "\n",
    "norm=[]\n",
    "for i in range(len(have_v)):\n",
    "    norm.append( get_norm(pca , [have_u[i]], [have_v[i]]))\n",
    "norm.sort()  \n",
    "print(norm)\n",
    "\n",
    "\n",
    "print(\"\\n\\n\\n\")\n",
    "\n",
    "norm=[]\n",
    "for i in range(len(have_v)):\n",
    "    norm.append( get_norm(pca , [y[i]], [have_v[i]]))\n",
    "norm.sort()  \n",
    "print(norm)\n",
    "    \n",
    "    \n",
    "    "
   ]
  },
  {
   "cell_type": "code",
   "execution_count": null,
   "metadata": {},
   "outputs": [],
   "source": [
    "from sklearn.utils import shuffle\n",
    "y=shuffle(s_cal)"
   ]
  },
  {
   "cell_type": "code",
   "execution_count": 377,
   "metadata": {},
   "outputs": [],
   "source": [
    "from scipy import spatial\n",
    "from sklearn.metrics.pairwise import cosine_similarity\n",
    "\n",
    "def get_cosign(pca, u , v):\n",
    "    \n",
    "    x=pca.transform(u)\n",
    "    y=pca.transform(v)\n",
    "    \n",
    "    #result= cosine_similarity(x, y)\n",
    "    \n",
    "    result= 1 - spatial.distance.cosine(x, y)\n",
    "    return result\n",
    "\n"
   ]
  },
  {
   "cell_type": "code",
   "execution_count": 378,
   "metadata": {},
   "outputs": [
    {
     "name": "stdout",
     "output_type": "stream",
     "text": [
      "[-0.9999113873863137, -0.9980519747581562, -0.997934243590588, -0.9953240315070664, -0.9634561041337584, -0.9318526097290589, -0.8729037585773916, -0.8565498927694701, -0.8186555649146072, -0.8070522295023772, -0.7782869664256977, -0.7528029680273163, -0.6313130838744683, -0.5338253178828016, -0.5121706107534583, -0.48140461250517674, -0.4037931223036384, -0.4030232958312885, -0.38002205786860976, -0.3611306498662996, -0.2902692631702637, -0.2834525591295707, -0.14793590154472658, -0.12339631650324545, -0.031152895652463153, -0.02820920126898696, -0.02053298314565466, -0.014799355592541419, 0.03947115886933339, 0.11169366888896992, 0.1371624089779513, 0.17760143296584463, 0.21809932372429297, 0.27012274799912583, 0.2931849446009541, 0.40875658177491936, 0.4240498195219544, 0.46558578517745575, 0.46954741485165674, 0.4756437982761663, 0.4862795905514564, 0.4974271542250761, 0.5147183374983196, 0.5254689065924728, 0.5301811858742579, 0.5510793451247332, 0.5582577598865965, 0.5638765074627651, 0.5746511312624599, 0.5750701101527206, 0.5762852361097939, 0.5849682629939932, 0.5963413655354094, 0.5991789047628823, 0.645493973519929, 0.676779838339905, 0.6795540475170704, 0.6976189925393333, 0.7107435769656623, 0.7203793014809097, 0.7315933963205405, 0.7402576431905799, 0.7553409756971754, 0.7626346345323618, 0.7916313535490795, 0.8117627850807884, 0.8224283042452253, 0.8246576899329752, 0.8312211434384731, 0.833258267612088, 0.8451150511839253, 0.8451730665734369, 0.8490429046506704, 0.8508755400776287, 0.8543966189885438, 0.8603011388515441, 0.8633278597224796, 0.8652879938979678, 0.8740413394279045, 0.8931646801867484, 0.8979843035600592, 0.9052796207834161, 0.9075708217586733, 0.9084931094117517, 0.9285887939064607, 0.9314300463460483, 0.9350041137759024, 0.9376332884278352, 0.9378202690190162, 0.9399186503777764, 0.9468512197366297, 0.9489359439976343, 0.9524558734495725, 0.9545475719862355, 0.9574485016132624, 0.9623647385341625, 0.9634899573745712, 0.964820654128731, 0.9678366029898425, 0.9696674097059029, 0.970819428244017, 0.9711686294795382, 0.9744242479847358, 0.9770975320034062, 0.9774029698181942, 0.9780358523493997, 0.9799991927767172, 0.9813680490474664, 0.9822768183377449, 0.9832847099972561, 0.9836400987952061, 0.9838609681891732, 0.9842334980325651, 0.9844223121750417, 0.9891813935624074, 0.9893043611927077, 0.9899819700228082, 0.9902216552502839, 0.9907479849707611, 0.9917558499266677, 0.9924898256317435, 0.994422298679715, 0.995320520913742, 0.9968594397706033, 0.9969008693106739, 0.996927260222133, 0.9969815709903727, 0.9974879144711478, 0.9978134412607936, 0.9979180978260612, 0.9986405380648584, 0.999351297741957, 0.9996327019210334, 0.999729758387013, 0.9997711158560172, 0.9998281635336129, 0.9999758901029038]\n",
      "\n",
      "\n",
      "\n",
      "\n",
      "[-0.9991693084994173, -0.9971879843094373, -0.9753627914070053, -0.9626160807481567, -0.9594436683846377, -0.935486562172213, -0.9285745181308904, -0.8869044980069538, -0.851965139806381, -0.8254935411969817, -0.8036598279469, -0.7527474255217694, -0.741285332222513, -0.6362945803566389, -0.5100698021359533, -0.28654914648219076, 0.179528248769955, 0.5893657930885611, 0.9072299808990146, 0.9850234909104099]\n",
      "\n",
      "\n",
      "\n",
      "\n",
      "[-0.8371960409735639, -0.7498893957081882, -0.5927739039213844, -0.35754317864417207, -0.2552292415480988, 0.3927972321853528, 0.4069936933227417, 0.4339992919421545, 0.4782428184412376, 0.8084257115755015, 0.826523802451599, 0.8991396169799765, 0.9478771259365274, 0.9587070264190443, 0.9773921681459954, 0.9776394470282898, 0.9833034298165448]\n",
      "\n",
      "\n",
      "\n",
      "\n",
      "[-0.9245125046718203, -0.791474254475548, -0.5752025445328242, -0.357272803741846, -0.32135742076106855, -0.11953337863653135, -0.02909047034109502, 0.13199845678213418, 0.25682829675992447, 0.6090915828777299, 0.6311378902000564, 0.6680814498054357, 0.8265815083123822, 0.8963996981062704, 0.9265759333623816, 0.9288765569790124, 0.9642833447247787]\n"
     ]
    }
   ],
   "source": [
    "\n",
    "\n",
    "norm=[]\n",
    "for i in range(len(cap_u)):\n",
    "    norm.append( get_cosign(pca , [cap_u[i]], [cap_v[i]]))\n",
    "norm.sort()  \n",
    "print(norm)\n",
    "\n",
    "print(\"\\n\\n\\n\")\n",
    "\n",
    "norm=[]\n",
    "for i in range(len(has_u)):\n",
    "    norm.append( get_cosign(pca , [has_u[i]], [has_v[i]]))\n",
    "norm.sort()  \n",
    "print(norm)\n",
    "\n",
    "\n",
    "print(\"\\n\\n\\n\")\n",
    "\n",
    "norm=[]\n",
    "for i in range(len(have_v)):\n",
    "    norm.append( get_cosign(pca , [have_u[i]], [have_v[i]]))\n",
    "norm.sort()  \n",
    "print(norm)\n",
    "\n",
    "\n",
    "print(\"\\n\\n\\n\")\n",
    "\n",
    "norm=[]\n",
    "for i in range(len(have_v)):\n",
    "    norm.append( get_cosign(pca , [y[i]], [have_v[i]]))\n",
    "norm.sort()  \n",
    "print(norm)\n"
   ]
  },
  {
   "cell_type": "code",
   "execution_count": null,
   "metadata": {},
   "outputs": [],
   "source": []
  }
 ],
 "metadata": {
  "kernelspec": {
   "display_name": "'Python Interactive'",
   "language": "python",
   "name": "1442c4c5-42f6-4460-970c-4efe6ab069dc"
  },
  "language_info": {
   "codemirror_mode": {
    "name": "ipython",
    "version": 3
   },
   "file_extension": ".py",
   "mimetype": "text/x-python",
   "name": "python",
   "nbconvert_exporter": "python",
   "pygments_lexer": "ipython3",
   "version": "3.7.4"
  }
 },
 "nbformat": 4,
 "nbformat_minor": 2
}
