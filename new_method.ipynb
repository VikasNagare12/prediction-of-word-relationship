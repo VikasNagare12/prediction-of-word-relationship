{
 "cells": [
  {
   "cell_type": "markdown",
   "metadata": {},
   "source": [
    "# Relationship finding\n"
   ]
  },
  {
   "cell_type": "code",
   "execution_count": 1,
   "metadata": {},
   "outputs": [],
   "source": [
    "#Impoting libs\n",
    "from nltk.corpus import stopwords\n",
    "import os\n",
    "import numpy as np\n",
    "from collections import OrderedDict\n",
    "import math\n",
    "import pandas as pd\n",
    "from sklearn.decomposition import PCA as sklearnPCA\n"
   ]
  },
  {
   "cell_type": "code",
   "execution_count": 2,
   "metadata": {},
   "outputs": [
    {
     "name": "stdout",
     "output_type": "stream",
     "text": [
      "Loading Word Vectors...\n",
      "Model load finish\n"
     ]
    }
   ],
   "source": [
    "#loding google w2v model\n",
    "from gensim.models import KeyedVectors\n",
    "if not os.path.exists('GoogleNews-vectors-negative300.bin.gz'):\n",
    "    raise ValueError(\"SKIP: You need to download the google news model\")\n",
    "print(\"Loading Word Vectors...\")\n",
    "model = KeyedVectors.load_word2vec_format('GoogleNews-vectors-negative300.bin.gz', binary=True, limit=500000)\n",
    "print(\"Model load finish\")\n",
    "#geting stop words"
   ]
  },
  {
   "cell_type": "code",
   "execution_count": 4,
   "metadata": {},
   "outputs": [],
   "source": [
    "#creating CSV to mtrix (train, u , v)\n",
    "\n",
    "def csv_to_matrix(csv_file):\n",
    "    #declare vectors\n",
    "    vectors = []\n",
    "    u_vectors=[]\n",
    "    v_vectors=[]\n",
    "    #open csv file\n",
    "    with open(csv_file) as input_file:\n",
    "        for line in input_file:\n",
    "            if line.strip():\n",
    "                try:            \n",
    "                    u,v = line.split(\",\")\n",
    "                    u = u.strip()\n",
    "                    v = v.strip()\n",
    "                    #print(u ,  \"     \",v)\n",
    "                    if(u != v):\n",
    "                            try:\n",
    "                                u=u.lower()\n",
    "                                u=u.capitalize()\n",
    "                                v=v.lower()\n",
    "                                v=v.capitalize()\n",
    "                                \n",
    "                                x=model.wv[u]\n",
    "                                y=model.wv[v]\n",
    "                                #finding differance of two vectors(u,v)\n",
    "                                vectors.append(x - y)\n",
    "                                #creating u, v vector of words\n",
    "                                u_vectors.append(x)\n",
    "                                v_vectors.append(y)\n",
    "                                #print(u , \"    \", v)\n",
    "                            except KeyError:\n",
    "                                #print(\" error for \" ,u, '   ',v)\n",
    "                                continue\n",
    "                    else:\n",
    "                        ssss=1\n",
    "                        #print(\"not added in matrix . : both same   \", u ,\"  \",v)\n",
    "\n",
    "                except ValueError:\n",
    "                    sssss=1\n",
    "                    #print('Skipping {}'.format(line))\n",
    "                \n",
    "    #creating vector to matrix :\n",
    "    \n",
    "    train_matrix = np.array(vectors)\n",
    "    u_matrix=np.array(u_vectors)\n",
    "    v_matrix=np.array(v_vectors)\n",
    "\n",
    "    \n",
    "    #creating coveriance matrix\n",
    "    #train_cov_mat=np.cov(train_matrix.T)\n",
    "    \n",
    "    #return all matrix \n",
    "    return train_matrix, u_matrix, v_matrix \n",
    "    \n",
    "    \n",
    "    "
   ]
  },
  {
   "cell_type": "code",
   "execution_count": 5,
   "metadata": {},
   "outputs": [],
   "source": [
    "#function to normalize data\n",
    "from sklearn.preprocessing import StandardScaler\n",
    "def normalize(matrix):\n",
    "    std_matrix= StandardScaler().fit_transform(matrix)\n",
    "    return std_matrix\n",
    "\n",
    "    "
   ]
  },
  {
   "cell_type": "code",
   "execution_count": 6,
   "metadata": {},
   "outputs": [],
   "source": [
    "#creating co-veriance matrix :\n",
    "def get_coveriance(matrix):\n",
    "    train_cov_mat=np.cov(matrix.T)\n",
    "    return train_cov_mat"
   ]
  },
  {
   "cell_type": "code",
   "execution_count": 7,
   "metadata": {},
   "outputs": [],
   "source": [
    " def get_pca(comp, matrix):\n",
    "    matrix=get_coveriance(matrix)\n",
    "    sklearn_pca = sklearnPCA(n_components=comp)\n",
    "    sklearn_pca.fit(matrix)\n",
    "    return sklearn_pca"
   ]
  },
  {
   "cell_type": "code",
   "execution_count": 8,
   "metadata": {},
   "outputs": [],
   "source": [
    "#get diffearance of projected matrix\n",
    "def diff_p(u , v):\n",
    "    return (u - v)\n"
   ]
  },
  {
   "cell_type": "code",
   "execution_count": 73,
   "metadata": {},
   "outputs": [],
   "source": [
    "\n",
    "def getMinimunError(file_name):\n",
    "    train, u ,v =csv_to_matrix(file_name)\n",
    "    min_vec=[]\n",
    "    for comp in range(2,300):\n",
    "        pca =get_pca(comp , train)\n",
    "        duv=diff_p( (pca.transform(u)) , (pca.transform(v)))\n",
    "        sum_n=0\n",
    "        for i in range(len(duv)):\n",
    "            norm_v=np.linalg.norm(duv[i])\n",
    "            norm_v=math.pow (norm_v, 2)\n",
    "            sum_n+=norm_v\n",
    "            \n",
    "        \n",
    "        min_vec.append(int(sum_n))\n",
    "    return min_vec\n",
    "    "
   ]
  },
  {
   "cell_type": "code",
   "execution_count": 74,
   "metadata": {},
   "outputs": [
    {
     "name": "stderr",
     "output_type": "stream",
     "text": [
      "/Users/vikasnagare/Library/Python/3.7/lib/python/site-packages/ipykernel_launcher.py:24: DeprecationWarning: Call to deprecated `wv` (Attribute will be removed in 4.0.0, use self instead).\n",
      "/Users/vikasnagare/Library/Python/3.7/lib/python/site-packages/ipykernel_launcher.py:25: DeprecationWarning: Call to deprecated `wv` (Attribute will be removed in 4.0.0, use self instead).\n"
     ]
    },
    {
     "name": "stdout",
     "output_type": "stream",
     "text": [
      "[91, 119, 143, 165, 186, 205, 223, 238, 251, 264, 276, 285, 294, 301, 309, 316, 320, 324, 324, 324, 324, 324, 324, 324, 325, 325, 325, 325, 325, 325, 325, 325, 325, 325, 325, 325, 325, 326, 326, 326, 326, 326, 326, 326, 326, 326, 326, 326, 326, 327, 327, 327, 327, 327, 327, 327, 327, 327, 327, 327, 327, 327, 327, 328, 328, 328, 328, 328, 328, 328, 328, 328, 328, 328, 328, 329, 329, 329, 330, 330, 330, 330, 330, 330, 330, 330, 330, 330, 331, 331, 331, 331, 331, 331, 331, 331, 331, 331, 331, 331, 331, 331, 331, 331, 332, 332, 332, 332, 332, 332, 332, 332, 332, 332, 332, 333, 333, 333, 333, 333, 333, 333, 333, 333, 333, 333, 333, 333, 333, 333, 333, 333, 333, 333, 333, 333, 333, 334, 334, 334, 334, 335, 335, 335, 335, 335, 335, 335, 335, 335, 335, 335, 335, 335, 335, 335, 336, 336, 336, 336, 336, 336, 336, 336, 336, 336, 336, 336, 336, 336, 336, 336, 336, 337, 337, 337, 337, 337, 337, 337, 337, 337, 337, 337, 337, 337, 337, 337, 337, 337, 337, 337, 337, 338, 338, 338, 338, 338, 338, 338, 338, 339, 339, 339, 339, 339, 339, 339, 339, 339, 339, 339, 339, 339, 339, 339, 339, 339, 339, 340, 340, 340, 340, 340, 340, 340, 340, 340, 340, 340, 340, 340, 341, 341, 341, 341, 341, 341, 341, 341, 341, 341, 341, 342, 342, 342, 342, 342, 342, 342, 342, 342, 342, 342, 342, 342, 342, 343, 343, 343, 343, 343, 343, 343, 343, 343, 343, 343, 343, 344, 344, 344, 344, 344, 344, 344, 344, 344, 344, 345, 345, 345, 345, 346, 346, 346, 346, 346, 346, 346, 346, 346, 346, 346, 347, 347, 347, 347]\n",
      "\n",
      "\n",
      "\n"
     ]
    },
    {
     "name": "stderr",
     "output_type": "stream",
     "text": [
      "/Users/vikasnagare/Library/Python/3.7/lib/python/site-packages/ipykernel_launcher.py:24: DeprecationWarning: Call to deprecated `wv` (Attribute will be removed in 4.0.0, use self instead).\n",
      "/Users/vikasnagare/Library/Python/3.7/lib/python/site-packages/ipykernel_launcher.py:25: DeprecationWarning: Call to deprecated `wv` (Attribute will be removed in 4.0.0, use self instead).\n"
     ]
    },
    {
     "name": "stdout",
     "output_type": "stream",
     "text": [
      "[60, 88, 111, 133, 152, 170, 186, 199, 212, 224, 236, 246, 256, 263, 270, 270, 270, 271, 271, 271, 271, 271, 271, 271, 271, 271, 271, 271, 271, 271, 271, 271, 271, 272, 272, 272, 272, 272, 272, 272, 272, 272, 272, 272, 272, 272, 272, 272, 272, 272, 273, 273, 273, 273, 273, 273, 273, 273, 273, 273, 273, 274, 274, 274, 274, 274, 274, 274, 274, 274, 274, 274, 274, 274, 275, 275, 275, 275, 275, 275, 275, 275, 275, 275, 275, 275, 275, 275, 275, 275, 275, 275, 275, 275, 275, 276, 276, 276, 276, 276, 276, 276, 276, 276, 276, 276, 276, 276, 276, 276, 276, 277, 277, 277, 277, 277, 277, 277, 277, 277, 277, 277, 277, 277, 277, 277, 277, 277, 277, 277, 277, 277, 277, 277, 278, 278, 278, 278, 278, 278, 278, 278, 278, 278, 278, 278, 279, 279, 279, 279, 279, 279, 279, 279, 279, 279, 279, 279, 279, 279, 279, 279, 279, 279, 279, 280, 280, 280, 280, 280, 280, 280, 280, 280, 280, 280, 280, 280, 280, 280, 280, 280, 281, 281, 281, 281, 281, 281, 281, 281, 281, 281, 281, 281, 281, 281, 281, 281, 281, 281, 282, 282, 282, 282, 282, 282, 282, 282, 282, 282, 282, 282, 282, 282, 282, 282, 282, 282, 282, 282, 282, 282, 282, 282, 282, 282, 282, 282, 283, 283, 283, 283, 283, 283, 283, 283, 283, 283, 283, 283, 283, 283, 283, 283, 283, 283, 283, 284, 284, 284, 284, 284, 284, 284, 284, 284, 284, 284, 284, 284, 284, 284, 284, 284, 284, 284, 284, 285, 285, 285, 285, 285, 285, 285, 285, 285, 285, 285, 285, 285, 285, 285, 285, 285, 285, 285, 286, 286, 286, 286, 286, 286, 286, 286, 286, 286, 286, 286]\n",
      "\n",
      "\n",
      "\n"
     ]
    },
    {
     "name": "stderr",
     "output_type": "stream",
     "text": [
      "/Users/vikasnagare/Library/Python/3.7/lib/python/site-packages/ipykernel_launcher.py:24: DeprecationWarning: Call to deprecated `wv` (Attribute will be removed in 4.0.0, use self instead).\n",
      "/Users/vikasnagare/Library/Python/3.7/lib/python/site-packages/ipykernel_launcher.py:25: DeprecationWarning: Call to deprecated `wv` (Attribute will be removed in 4.0.0, use self instead).\n"
     ]
    },
    {
     "name": "stdout",
     "output_type": "stream",
     "text": [
      "[191, 264, 300, 327, 352, 374, 393, 417, 461, 478, 510, 526, 543, 557, 571, 589, 604, 616, 634, 646, 660, 671, 683, 692, 706, 716, 725, 733, 743, 752, 760, 769, 779, 787, 798, 806, 815, 823, 829, 837, 844, 850, 859, 865, 871, 877, 884, 896, 901, 911, 918, 923, 928, 939, 944, 948, 952, 963, 967, 973, 977, 983, 987, 991, 996, 999, 1005, 1014, 1017, 1020, 1024, 1029, 1032, 1035, 1039, 1044, 1047, 1050, 1052, 1055, 1058, 1061, 1064, 1066, 1068, 1071, 1073, 1075, 1079, 1081, 1085, 1088, 1090, 1092, 1094, 1096, 1097, 1099, 1104, 1106, 1109, 1110, 1111, 1117, 1118, 1119, 1121, 1122, 1123, 1124, 1126, 1129, 1130, 1134, 1135, 1135, 1136, 1137, 1139, 1143, 1144, 1145, 1152, 1153, 1153, 1154, 1156, 1158, 1159, 1160, 1160, 1162, 1163, 1163, 1164, 1167, 1167, 1167, 1167, 1167, 1168, 1168, 1168, 1168, 1169, 1170, 1170, 1170, 1177, 1177, 1178, 1178, 1178, 1181, 1181, 1185, 1185, 1185, 1185, 1185, 1185, 1187, 1188, 1188, 1188, 1188, 1188, 1192, 1195, 1195, 1199, 1199, 1199, 1200, 1200, 1201, 1201, 1201, 1201, 1201, 1202, 1203, 1203, 1203, 1205, 1206, 1206, 1206, 1208, 1209, 1210, 1210, 1211, 1211, 1212, 1212, 1212, 1212, 1212, 1212, 1212, 1212, 1213, 1213, 1213, 1214, 1214, 1214, 1215, 1216, 1216, 1217, 1217, 1218, 1218, 1218, 1218, 1218, 1219, 1219, 1219, 1219, 1221, 1221, 1221, 1221, 1221, 1221, 1223, 1224, 1224, 1224, 1226, 1226, 1226, 1226, 1226, 1226, 1227, 1227, 1227, 1229, 1230, 1230, 1230, 1231, 1231, 1231, 1233, 1233, 1233, 1233, 1235, 1236, 1238, 1239, 1239, 1239, 1240, 1240, 1240, 1240, 1241, 1241, 1241, 1241, 1241, 1242, 1242, 1243, 1243, 1243, 1243, 1244, 1246, 1246, 1246, 1246, 1246, 1246, 1246, 1250, 1252, 1252, 1252, 1252, 1253, 1254, 1254, 1254, 1254, 1255, 1258, 1259, 1259, 1259, 1259, 1260]\n"
     ]
    }
   ],
   "source": [
    "print(getMinimunError(\"has.csv\"))\n",
    "print(\"\\n\\n\")\n",
    "print(getMinimunError(\"have.csv\"))\n",
    "print(\"\\n\\n\")\n",
    "print(getMinimunError(\"capitals_processed_final.csv\"))"
   ]
  },
  {
   "cell_type": "code",
   "execution_count": 12,
   "metadata": {},
   "outputs": [],
   "source": [
    "\n",
    "# foe single entry\n",
    "# not complited still\n",
    "def predict(pca , word1 , word2):\n",
    "    word1 = word1.strip()\n",
    "    word2 = word2.strip()\n",
    "    word1=word1.lower()\n",
    "    word1=word1.capitalize()\n",
    "    word2=word2.lower()\n",
    "    word2=word2.capitalize()\n",
    "    [np.array((wv[word1]))]\n",
    "    [np.array((wv[vword2]))]\n",
    "    \n",
    "    d_list_uv=diff_p( (pca.transform(u)) , (pca.transform(v)))\n",
    "    norm_v=np.linalg.norm(d_list_uv)\n",
    "    norm_v=math.pow (norm_v, 2)\n",
    "    norm_v=norm_v * 100\n",
    "    norm_v=int(norm_v)\n",
    "\n",
    "    \n",
    "    \n",
    "    \n",
    "    \n",
    "    \n",
    "    \n",
    "    \n",
    "    "
   ]
  },
  {
   "cell_type": "code",
   "execution_count": 97,
   "metadata": {
    "scrolled": true
   },
   "outputs": [
    {
     "name": "stdout",
     "output_type": "stream",
     "text": [
      "[295, 297, 310, 347, 366, 369, 387, 388, 404, 404, 411, 412, 421, 430, 431, 449, 450, 452, 464, 467, 470, 471, 473, 478, 482, 483, 489, 491, 497, 497, 506, 506, 516, 522, 537, 540, 541, 543, 546, 547, 548, 550, 557, 557, 559, 561, 561, 562, 566, 567, 568, 568, 569, 570, 575, 576, 580, 582, 590, 594, 598, 598, 602, 604, 611, 611, 620, 626, 626, 628, 640, 646, 649, 652, 657, 658, 658, 659, 674, 682, 685, 691, 692, 700, 701, 709, 711, 725, 733, 735, 744, 753, 757, 793, 796, 801, 803, 805, 819, 886, 896, 909, 924, 926, 928, 931, 941, 952, 978, 1019, 1044, 1073, 1086, 1093, 1168, 1213, 1278, 1322, 1348, 1392]\n",
      "\n",
      "\n",
      "\n",
      "[280, 352, 469, 480, 490, 504, 505, 509, 516, 626, 644, 685, 697, 734, 757, 770, 850, 934, 967, 1156]\n",
      "\n",
      "\n",
      "\n",
      "[621, 770, 775, 825, 843, 850, 960, 1006, 1072, 1097, 1272, 1313, 1327, 1465, 1475, 1539, 1563]\n",
      "\n",
      "\n",
      "\n",
      "[720, 765, 770, 783, 810, 823, 825, 846, 852, 904, 917, 922, 925, 944, 959, 964, 973, 993, 996, 1037, 1040, 1051, 1055, 1059, 1071, 1071, 1078, 1084, 1088, 1090, 1107, 1111, 1114, 1117, 1118, 1128, 1129, 1134, 1137, 1138, 1140, 1143, 1145, 1147, 1153, 1153, 1155, 1158, 1161, 1167, 1169, 1175, 1175, 1184, 1200, 1206, 1210, 1213, 1218, 1221, 1229, 1231, 1241, 1241, 1249, 1253, 1262, 1262, 1271, 1281, 1289, 1290, 1293, 1300, 1302, 1309, 1311, 1312, 1313, 1314, 1328, 1337, 1363, 1364, 1379, 1381, 1383, 1385, 1386, 1391, 1392, 1397, 1398, 1401, 1402, 1406, 1409, 1413, 1414, 1426, 1445, 1447, 1449, 1460, 1461, 1499, 1500, 1501, 1503, 1509, 1512, 1526, 1528, 1534, 1554, 1557, 1561, 1571, 1601, 1628, 1631, 1660, 1675, 1685, 1688, 1694, 1696, 1701, 1749, 1762, 1785, 1801, 1821, 1860, 1860, 2041, 2070]\n"
     ]
    },
    {
     "name": "stderr",
     "output_type": "stream",
     "text": [
      "/Users/vikasnagare/Library/Python/3.7/lib/python/site-packages/ipykernel_launcher.py:24: DeprecationWarning: Call to deprecated `wv` (Attribute will be removed in 4.0.0, use self instead).\n",
      "/Users/vikasnagare/Library/Python/3.7/lib/python/site-packages/ipykernel_launcher.py:25: DeprecationWarning: Call to deprecated `wv` (Attribute will be removed in 4.0.0, use self instead).\n"
     ]
    }
   ],
   "source": [
    "\n",
    "def get_norm(pca, u , v):\n",
    "    XX=diff_p(np.asarray(u) ,np.asarray( v))\n",
    "    \n",
    "    yy=pca.transform(XX)\n",
    "    d_list_uv=yy-XX\n",
    "    #print(d_list_uv)\n",
    "    ot_p=d_list_uv[0]\n",
    "    ot_p=ot_p[200:300]\n",
    "    #print(len(ot_p))\n",
    "    norm_v=np.linalg.norm(ot_p)\n",
    "\n",
    "    norm_v=math.pow (norm_v, 2)\n",
    "    norm_v=norm_v * 100\n",
    "    norm_v=int(norm_v)\n",
    "    return norm_v\n",
    "\n",
    "\n",
    "\n",
    "\n",
    "\n",
    "\n",
    "trainc, cap_u ,cap_v =csv_to_matrix(\"capitals_processed_final.csv\")\n",
    "trains, has_u ,has_v =csv_to_matrix(\"has.csv\")\n",
    "trainh, have_u ,have_v =csv_to_matrix(\"have.csv\")\n",
    "\n",
    "\n",
    "\n",
    "\n",
    "\n",
    "\n",
    "\n",
    "\n",
    "trainc=trainc[0:10]\n",
    "\n",
    "s_cal=cap_u\n",
    "from sklearn.utils import shuffle\n",
    "y=shuffle(s_cal)\n",
    "\n",
    "\n",
    "\n",
    "\n",
    "\n",
    "\n",
    "\n",
    "norm=[]\n",
    "for i in range(0,120):\n",
    "    norm.append( get_norm(pca , [cap_u[i]], [cap_v[i]]))\n",
    "norm.sort()  \n",
    "print(norm)\n",
    "\n",
    "print(\"\\n\\n\")\n",
    "\n",
    "\n",
    "norm=[]\n",
    "for i in range(len(has_u)):\n",
    "    norm.append( get_norm(pca , [has_u[i]], [has_v[i]]))\n",
    "norm.sort()  \n",
    "print(norm)\n",
    "\n",
    "\n",
    "print(\"\\n\\n\")\n",
    "\n",
    "norm=[]\n",
    "for i in range(len(have_v)):\n",
    "    norm.append( get_norm(pca , [have_u[i]], [have_v[i]]))\n",
    "norm.sort()  \n",
    "print(norm)\n",
    "\n",
    "\n",
    "print(\"\\n\\n\")\n",
    "\n",
    "norm=[]\n",
    "for i in range(len(cap_v)):\n",
    "    norm.append( get_norm(pca , [y[i]], [cap_v[i]]))\n",
    "norm.sort()  \n",
    "print(norm)\n",
    "    \n",
    "    "
   ]
  },
  {
   "cell_type": "code",
   "execution_count": 128,
   "metadata": {},
   "outputs": [
    {
     "name": "stderr",
     "output_type": "stream",
     "text": [
      "/Users/vikasnagare/Library/Python/3.7/lib/python/site-packages/ipykernel_launcher.py:24: DeprecationWarning: Call to deprecated `wv` (Attribute will be removed in 4.0.0, use self instead).\n",
      "/Users/vikasnagare/Library/Python/3.7/lib/python/site-packages/ipykernel_launcher.py:25: DeprecationWarning: Call to deprecated `wv` (Attribute will be removed in 4.0.0, use self instead).\n"
     ]
    },
    {
     "name": "stdout",
     "output_type": "stream",
     "text": [
      "[229, 257, 258, 258, 262, 268, 269, 272, 272, 275, 275, 288, 289, 290, 293, 294, 295, 296, 296, 296, 298, 299, 299, 300, 300, 301, 302, 302, 303, 304, 306, 307, 308, 310, 311, 312, 312, 313, 313, 314, 317, 318, 319, 319, 321, 325, 325, 326, 326, 326, 328, 329, 329, 329, 329, 329, 329, 331, 333, 334, 334, 335, 337, 338, 340, 340, 341, 343, 344, 345, 345, 347, 349, 350, 352, 355, 355, 356, 356, 357, 357, 361, 362, 362, 364, 365, 366, 368, 370, 370, 371, 373, 373, 375, 375, 380, 381, 389, 393, 394, 396, 401, 406, 408, 414, 418, 418, 420, 421, 421, 426, 431, 442, 449, 451, 454, 459, 492, 505, 516]\n",
      "\n",
      "\n",
      "\n",
      "[314, 385, 415, 429, 437, 441, 445, 455, 466, 473, 474, 478, 481, 497, 502, 514, 526, 530, 552, 563]\n",
      "\n",
      "\n",
      "\n",
      "[370, 374, 380, 394, 415, 416, 418, 437, 455, 467, 468, 477, 498, 501, 524, 536, 574]\n",
      "\n",
      "\n",
      "\n",
      "[350, 384, 402, 403, 413, 417, 425, 425, 426, 427, 427, 429, 432, 432, 434, 436, 436, 436, 436, 438, 443, 443, 444, 444, 447, 448, 449, 450, 451, 451, 451, 451, 453, 453, 454, 456, 459, 462, 463, 465, 466, 467, 467, 468, 469, 469, 470, 470, 472, 473, 474, 475, 476, 476, 478, 479, 480, 480, 481, 482, 485, 485, 485, 486, 487, 489, 489, 489, 489, 493, 493, 495, 499, 499, 499, 504, 505, 509, 511, 511, 512, 513, 513, 513, 514, 514, 514, 516, 519, 522, 522, 523, 523, 524, 525, 525, 525, 525, 526, 526, 528, 529, 531, 532, 532, 533, 534, 535, 539, 540, 540, 545, 549, 549, 549, 550, 550, 550, 550, 552, 553, 556, 557, 560, 563, 564, 566, 571, 571, 576, 581, 585, 585, 597, 599, 601, 606]\n"
     ]
    }
   ],
   "source": [
    "def get_norm_f(pca, u , v, eig_vecs):\n",
    "    XX=diff_p(np.asarray(u) ,np.asarray( v))\n",
    "    \n",
    "    yy=pca.transform(XX)\n",
    "    \n",
    "    \n",
    "    \n",
    "    ans = [0 for x in range(300)]\n",
    "    for i in range(0,100):\n",
    "        for j in range(0,300):\n",
    "            ans[j]+=(yy[0][i] * eig_vecs[i][j])\n",
    "\n",
    "\n",
    "    d_list_uv=ans-XX\n",
    "\n",
    "    \n",
    "    \n",
    "    \n",
    "    norm_v=np.linalg.norm(d_list_uv)\n",
    "\n",
    "    norm_v=norm_v * 100\n",
    "    norm_v=int(norm_v)\n",
    "    return norm_v\n",
    "\n",
    "\n",
    "\n",
    "\n",
    "trainc, cap_u ,cap_v =csv_to_matrix(\"capitals_processed_final.csv\")\n",
    "trains, has_u ,has_v =csv_to_matrix(\"has.csv\")\n",
    "trainh, have_u ,have_v =csv_to_matrix(\"have.csv\")\n",
    "\n",
    "pca=get_pca(100 , trainh)\n",
    "\n",
    "\n",
    "cov_mat = np.cov(trainh.T)\n",
    "\n",
    "eig_vals, eig_vecs = np.linalg.eig(cov_mat)\n",
    "\n",
    "\n",
    "\n",
    "norm=[]\n",
    "for i in range(0,120):\n",
    "    norm.append( get_norm_f(pca , [cap_u[i]], [cap_v[i]], eig_vecs))\n",
    "norm.sort()  \n",
    "print(norm)\n",
    "\n",
    "print(\"\\n\\n\")\n",
    "\n",
    "\n",
    "norm=[]\n",
    "for i in range(len(has_u)):\n",
    "    norm.append( get_norm_f(pca , [has_u[i]], [has_v[i]],eig_vecs))\n",
    "norm.sort()  \n",
    "print(norm)\n",
    "\n",
    "\n",
    "print(\"\\n\\n\")\n",
    "\n",
    "norm=[]\n",
    "for i in range(len(have_v)):\n",
    "    norm.append( get_norm_f(pca , [have_u[i]], [have_v[i]],eig_vecs))\n",
    "norm.sort()  \n",
    "print(norm)\n",
    "\n",
    "\n",
    "print(\"\\n\\n\")\n",
    "\n",
    "norm=[]\n",
    "for i in range(len(cap_v)):\n",
    "    norm.append( get_norm_f(pca , [y[i]], [cap_v[i]],eig_vecs))\n",
    "norm.sort()  \n",
    "print(norm)\n",
    "\n",
    "        \n",
    "    \n",
    "\n"
   ]
  },
  {
   "cell_type": "code",
   "execution_count": null,
   "metadata": {},
   "outputs": [],
   "source": []
  },
  {
   "cell_type": "code",
   "execution_count": null,
   "metadata": {},
   "outputs": [],
   "source": []
  },
  {
   "cell_type": "code",
   "execution_count": null,
   "metadata": {},
   "outputs": [],
   "source": []
  }
 ],
 "metadata": {
  "kernelspec": {
   "display_name": "'Python Interactive'",
   "language": "python",
   "name": "1442c4c5-42f6-4460-970c-4efe6ab069dc"
  },
  "language_info": {
   "codemirror_mode": {
    "name": "ipython",
    "version": 3
   },
   "file_extension": ".py",
   "mimetype": "text/x-python",
   "name": "python",
   "nbconvert_exporter": "python",
   "pygments_lexer": "ipython3",
   "version": "3.7.4"
  }
 },
 "nbformat": 4,
 "nbformat_minor": 2
}
